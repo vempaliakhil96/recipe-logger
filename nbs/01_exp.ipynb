{
 "cells": [
  {
   "cell_type": "code",
   "execution_count": 10,
   "metadata": {},
   "outputs": [
    {
     "data": {
      "text/plain": [
       "True"
      ]
     },
     "execution_count": 10,
     "metadata": {},
     "output_type": "execute_result"
    }
   ],
   "source": [
    "from dotenv import load_dotenv\n",
    "\n",
    "load_dotenv()"
   ]
  },
  {
   "cell_type": "code",
   "execution_count": 11,
   "metadata": {},
   "outputs": [],
   "source": [
    "import base64\n",
    "from openai import OpenAI\n",
    "import fitz  # PyMuPDF\n",
    "from pathlib import Path"
   ]
  },
  {
   "cell_type": "code",
   "execution_count": 15,
   "metadata": {},
   "outputs": [],
   "source": [
    "client = OpenAI()\n",
    "downloads = Path(\"./../downloads\")\n",
    "pdfs = list((downloads / \"pdfs\").iterdir())\n",
    "images = downloads / \"images\"\n",
    "dishes = [p.name.replace(\".pdf\", \"\") for p in pdfs]"
   ]
  },
  {
   "cell_type": "code",
   "execution_count": 13,
   "metadata": {},
   "outputs": [],
   "source": [
    "# Function to encode the image\n",
    "def encode_image(image_path):\n",
    "  with open(image_path, \"rb\") as image_file:\n",
    "    return base64.b64encode(image_file.read()).decode('utf-8')\n",
    "\n",
    "def pdf2image(pdf_path):\n",
    "    # Open the PDF file\n",
    "    pdf_document = fitz.open(pdf_path)\n",
    "    image_pth = images / pdf_path.name.replace(\".pdf\", \"\")\n",
    "    image_pth.mkdir()\n",
    "    # Iterate through each page and save it as an image\n",
    "    for page_num in range(len(pdf_document)):\n",
    "        page = pdf_document.load_page(page_num)\n",
    "        pix = page.get_pixmap()\n",
    "        image_path = image_pth / f'page_{page_num + 1}.png'\n",
    "        pix.save(image_path)\n",
    "\n",
    "    pdf_document.close()"
   ]
  },
  {
   "cell_type": "code",
   "execution_count": 14,
   "metadata": {},
   "outputs": [],
   "source": [
    "_ = [pdf2image(p) for p in pdfs]"
   ]
  },
  {
   "cell_type": "code",
   "execution_count": 21,
   "metadata": {},
   "outputs": [],
   "source": [
    "prompt = \"\"\"You are a helpful AI, your task is to read the recipe and note down all the ingredients for 1 person only in a CSV format with the following headers\n",
    "dish_name,name, tags, quantity, metric\n",
    "- quantity is always a number\n",
    "- metric should be one of {tbsp, tsp, unit, g, cup}\n",
    "- tags should be one of {Protein, Pasta, Vegetable, Sauce, Dairy, Spice, Herb, Grain}\"\"\""
   ]
  },
  {
   "cell_type": "code",
   "execution_count": 22,
   "metadata": {},
   "outputs": [],
   "source": [
    "dish = dishes[0]\n",
    "\n",
    "response = client.chat.completions.create(\n",
    "  model=\"gpt-4o-mini\",\n",
    "  messages=[\n",
    "    {\n",
    "      \"role\": \"user\",\n",
    "      \"content\": [\n",
    "        {\n",
    "          \"type\": \"text\",\n",
    "          \"text\": prompt,\n",
    "        }\n",
    "      ] + [\n",
    "        {\n",
    "          \"type\": \"image_url\",\n",
    "          \"image_url\": {\n",
    "            \"detail\": \"high\",\n",
    "            \"url\": f\"data:image/jpeg;base64,{encode_image(image_path)}\",\n",
    "          },\n",
    "        } for image_path in (images / dish).iterdir()\n",
    "      ]\n",
    "    }\n",
    "  ],\n",
    "  max_tokens=300,\n",
    ")"
   ]
  },
  {
   "cell_type": "code",
   "execution_count": 23,
   "metadata": {},
   "outputs": [
    {
     "data": {
      "text/plain": [
       "'Here are the ingredients for one person from the recipe in CSV format:\\n\\n```csv\\ndish_name,name,tags,quantity,metric\\nBacon Jalapeño Mac & Cheese,Bacon,Protein,2,unit\\nBacon Jalapeño Mac & Cheese,Jalapeño,Vegetable,0.5,unit\\nBacon Jalapeño Mac & Cheese,Scallions,Herb,1,unit\\nBacon Jalapeño Mac & Cheese,Southwest Spice Blend,Spice,0.5,tbsp\\nBacon Jalapeño Mac & Cheese,Garlic,Vegetable,1,clove\\nBacon Jalapeño Mac & Cheese,Cavatappi Pasta,Grain,1,cup\\nBacon Jalapeño Mac & Cheese,Panko Breadcrumbs,Grain,1, tbsp\\nBacon Jalapeño Mac & Cheese,Flour,Grain,1,tbsp\\nBacon Jalapeño Mac & Cheese,Cream Sauce Base,Dairy,0.5,cup\\nBacon Jalapeño Mac & Cheese,Mexican Cheese Blend,Dairy,0.25,cup\\nBacon Jalapeño Mac & Cheese,Monterey Jack,Dairy,0.25,cup\\n```'"
      ]
     },
     "execution_count": 23,
     "metadata": {},
     "output_type": "execute_result"
    }
   ],
   "source": [
    "response.choices[0].message.content"
   ]
  },
  {
   "cell_type": "code",
   "execution_count": null,
   "metadata": {},
   "outputs": [],
   "source": []
  }
 ],
 "metadata": {
  "kernelspec": {
   "display_name": "Python 3",
   "language": "python",
   "name": "python3"
  },
  "language_info": {
   "codemirror_mode": {
    "name": "ipython",
    "version": 3
   },
   "file_extension": ".py",
   "mimetype": "text/x-python",
   "name": "python",
   "nbconvert_exporter": "python",
   "pygments_lexer": "ipython3",
   "version": "3.10.13"
  }
 },
 "nbformat": 4,
 "nbformat_minor": 2
}
