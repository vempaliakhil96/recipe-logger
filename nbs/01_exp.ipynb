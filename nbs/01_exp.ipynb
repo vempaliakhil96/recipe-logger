{
 "cells": [
  {
   "cell_type": "code",
   "execution_count": 10,
   "metadata": {},
   "outputs": [
    {
     "data": {
      "text/plain": [
       "True"
      ]
     },
     "execution_count": 10,
     "metadata": {},
     "output_type": "execute_result"
    }
   ],
   "source": [
    "from dotenv import load_dotenv\n",
    "\n",
    "load_dotenv()"
   ]
  },
  {
   "cell_type": "code",
   "execution_count": 11,
   "metadata": {},
   "outputs": [],
   "source": [
    "import base64\n",
    "from openai import OpenAI\n",
    "import fitz  # PyMuPDF\n",
    "from pathlib import Path"
   ]
  },
  {
   "cell_type": "code",
   "execution_count": 15,
   "metadata": {},
   "outputs": [],
   "source": [
    "client = OpenAI()\n",
    "downloads = Path(\"./../downloads\")\n",
    "pdfs = list((downloads / \"pdfs\").iterdir())\n",
    "images = downloads / \"images\"\n",
    "dishes = [p.name.replace(\".pdf\", \"\") for p in pdfs]"
   ]
  },
  {
   "cell_type": "code",
   "execution_count": 13,
   "metadata": {},
   "outputs": [],
   "source": [
    "# Function to encode the image\n",
    "def encode_image(image_path):\n",
    "  with open(image_path, \"rb\") as image_file:\n",
    "    return base64.b64encode(image_file.read()).decode('utf-8')\n",
    "\n",
    "def pdf2image(pdf_path):\n",
    "    # Open the PDF file\n",
    "    pdf_document = fitz.open(pdf_path)\n",
    "    image_pth = images / pdf_path.name.replace(\".pdf\", \"\")\n",
    "    image_pth.mkdir()\n",
    "    # Iterate through each page and save it as an image\n",
    "    for page_num in range(len(pdf_document)):\n",
    "        page = pdf_document.load_page(page_num)\n",
    "        pix = page.get_pixmap()\n",
    "        image_path = image_pth / f'page_{page_num + 1}.png'\n",
    "        pix.save(image_path)\n",
    "\n",
    "    pdf_document.close()"
   ]
  },
  {
   "cell_type": "code",
   "execution_count": 14,
   "metadata": {},
   "outputs": [],
   "source": [
    "_ = [pdf2image(p) for p in pdfs]"
   ]
  },
  {
   "cell_type": "code",
   "execution_count": 25,
   "metadata": {},
   "outputs": [],
   "source": [
    "def generate_ingredients(dish):\n",
    "  prompt = \"\"\"You are a helpful AI, your task is to read the recipe and note down all the ingredients for 1 person only in a CSV format with the following headers\n",
    "  dish_name,name, tags, quantity, metric\n",
    "  - quantity is always a number\n",
    "  - metric should be one of {tbsp, tsp, unit, g, cup}\n",
    "  - tags should be one of {Protein, Pasta, Vegetable, Sauce, Dairy, Spice, Herb, Grain}\"\"\"\n",
    "\n",
    "  response = client.chat.completions.create(\n",
    "    model=\"gpt-4o-mini\",\n",
    "    messages=[\n",
    "      {\n",
    "        \"role\": \"user\",\n",
    "        \"content\": [\n",
    "          {\n",
    "            \"type\": \"text\",\n",
    "            \"text\": prompt,\n",
    "          }\n",
    "        ] + [\n",
    "          {\n",
    "            \"type\": \"image_url\",\n",
    "            \"image_url\": {\n",
    "              \"detail\": \"high\",\n",
    "              \"url\": f\"data:image/jpeg;base64,{encode_image(image_path)}\",\n",
    "            },\n",
    "          } for image_path in (images / dish).iterdir()\n",
    "        ]\n",
    "      }\n",
    "    ],\n",
    "    max_tokens=300,\n",
    "  )\n",
    "  print(response.choices[0].message.content)"
   ]
  },
  {
   "cell_type": "code",
   "execution_count": 29,
   "metadata": {},
   "outputs": [
    {
     "name": "stdout",
     "output_type": "stream",
     "text": [
      "0 bacon-jalapeno-mac-cheese\n",
      "1 curry-yogurt-chicken\n",
      "2 fattoush-inspired-salad\n",
      "3 smart-shrimp-curry\n",
      "4 beyond-meat-steakhouse-cheeseburgers\n",
      "5 spicy-tomato-penne-al-forno\n",
      "6 indian-style-chicken-curry\n",
      "7 cheesy-pork-enchiladas-and-diy-enchilada-sauce\n",
      "8 linguine-and-bacon-in-blush-sauce\n",
      "9 seasoned-shrimp-and-roasted-potatoes\n",
      "10 honey-garlic-turkey-bowls\n",
      "11 chipotle-salmon-bowls\n",
      "12 crispy-parmesan-chicken\n",
      "13 chorizo-meatball-bowls\n",
      "14 tuscan-sausage-linguine\n",
      "15 harissa-sesame-chicken\n",
      "16 ponzu-glazed-chicken-sandos\n",
      "17 moroccan-inspired-chicken-thighs\n",
      "18 chicken-tikka-masala\n",
      "19 pork-banh-mi-style-bowls\n",
      "20 cajun-spiced-halloumi-burgers\n",
      "21 golden-coconut-shrimp\n",
      "22 persian-inspired-chicken-and-jeweled-rice\n",
      "23 smoky-barramundi-with-brown-butter\n",
      "24 chicken-penne-al-limone\n",
      "25 bbq-black-bean-taquitos\n"
     ]
    }
   ],
   "source": [
    "for i, d in enumerate(dishes):\n",
    "    print(f\"{i} {d}\")"
   ]
  },
  {
   "cell_type": "code",
   "execution_count": 37,
   "metadata": {},
   "outputs": [
    {
     "name": "stdout",
     "output_type": "stream",
     "text": [
      "Here are the ingredients for 1 person in CSV format:\n",
      "\n",
      "```csv\n",
      "dish_name,name,tags,quantity,metric\n",
      "Fattoush-Inspired Salad,Chickpeas,Protein,30,g\n",
      "Fattoush-Inspired Salad,Shawarma Spice Blend,Spice,1, tbsp\n",
      "Fattoush-Inspired Salad,Garlic,Herb,1,tsp\n",
      "Fattoush-Inspired Salad,Pita Bread,Grain,1,unit\n",
      "Fattoush-Inspired Salad,Baby Tomatoes,Vegetable,118,g\n",
      "Fattoush-Inspired Salad,Parsley,Hull,7.5,g\n",
      "Fattoush-Inspired Salad,Mixed Olives,Vegetable,30,g\n",
      "Fattoush-Inspired Salad,Green Onion,Vegetable,2,unit\n",
      "Fattoush-Inspired Salad,White Wine Vinegar,Dairy,1, tbsp\n",
      "Fattoush-Inspired Salad,Sweet Bell Pepper,Vegetable,160,g\n",
      "Fattoush-Inspired Salad,Feta Cheese,Dairy,10,g\n",
      "Fattoush-Inspired Salad,Sugar,Spice,1,tsp\n",
      "Fattoush-Inspired Salad,Oil,Dairy,1,tsp\n",
      "Fattoush-Inspired Salad,Salt and Pepper,Spice,1,tsp\n",
      "```\n",
      "Here are the ingredients for one serving of the Curry Yogurt Chicken with Veggie Rice Pilaf in CSV format:\n",
      "\n",
      "```csv\n",
      "dish_name,name,tags,quantity,metric\n",
      "Curry Yogurt Chicken,Chicken Thighs,Protein,142.5,g\n",
      "Curry Yogurt Chicken,Basmati Rice,Grain,0.25,cup\n",
      "Curry Yogurt Chicken,Greek Yogurt,Dairy,50,g\n",
      "Curry Yogurt Chicken,Red Onion,Vegetable,28,g\n",
      "Curry Yogurt Chicken,Baby Spinach,Vegetable,14,g\n",
      "Curry Yogurt Chicken,Curry Spice Blend,Spice,0.5,tbsp\n",
      "Curry Yogurt Chicken,Garlic,Herb,1,tsp\n",
      "Curry Yogurt Chicken,Chicken Stock Reduction,Sauce,0.5,unit\n",
      "Curry Yogurt Chicken,Butter,Dairy,0.5,tbsp\n",
      "```\n",
      "Here's the list of ingredients for one person in CSV format:\n",
      "\n",
      "```csv\n",
      "dish_name,name,tags,quantity,metric\n",
      "Crispy Parmesan Chicken,Carrots,Vegetable,6,g\n",
      "Crispy Parmesan Chicken,Scallions,Vegetable,1,unit\n",
      "Crispy Parmesan Chicken,Garlic,Vegetable,1,unit\n",
      "Crispy Parmesan Chicken,Lemon,Vegetable,0.5,unit\n",
      "Crispy Parmesan Chicken,Panko,Bread,12,g\n",
      "Crispy Parmesan Chicken,Parmesan Cheese,Dairy,9,g\n",
      "Crispy Parmesan Chicken,Chicken Cutlets,Protein,5,g\n",
      "Crispy Parmesan Chicken,Paprika,Spice,0.5,tsp\n",
      "Crispy Parmesan Chicken,Chili Powder,Spice,0.25,tsp\n",
      "Crispy Parmesan Chicken,Israeli Couscous,Grain,25,g\n",
      "Crispy Parmesan Chicken,Sour Cream,Dairy,1,tbsp\n",
      "Crispy Parmesan Chicken,Olive Oil,Dairy,1,tbsp\n",
      "Crispy Parmesan Chicken,Butter,Dairy,1,tbsp\n",
      "```\n"
     ]
    }
   ],
   "source": [
    "xs = [2, 1, 12, 13, 11, 18, 24, 0, 25, 4, 20, 7]\n",
    "_ = [generate_ingredients(dishes[x]) for x in xs]"
   ]
  },
  {
   "cell_type": "code",
   "execution_count": null,
   "metadata": {},
   "outputs": [],
   "source": []
  }
 ],
 "metadata": {
  "kernelspec": {
   "display_name": "Python 3",
   "language": "python",
   "name": "python3"
  },
  "language_info": {
   "codemirror_mode": {
    "name": "ipython",
    "version": 3
   },
   "file_extension": ".py",
   "mimetype": "text/x-python",
   "name": "python",
   "nbconvert_exporter": "python",
   "pygments_lexer": "ipython3",
   "version": "3.10.13"
  }
 },
 "nbformat": 4,
 "nbformat_minor": 2
}
